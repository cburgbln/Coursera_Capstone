{
 "cells": [
  {
   "cell_type": "code",
   "execution_count": 1,
   "metadata": {},
   "outputs": [
    {
     "name": "stdout",
     "output_type": "stream",
     "text": [
      "Solving environment: done\n",
      "\n",
      "## Package Plan ##\n",
      "\n",
      "  environment location: /home/jupyterlab/conda\n",
      "\n",
      "  added / updated specs: \n",
      "    - geopy\n",
      "\n",
      "\n",
      "The following packages will be downloaded:\n",
      "\n",
      "    package                    |            build\n",
      "    ---------------------------|-----------------\n",
      "    geopy-1.18.1               |             py_0          51 KB  conda-forge\n",
      "    geographiclib-1.49         |             py_0          32 KB  conda-forge\n",
      "    ------------------------------------------------------------\n",
      "                                           Total:          84 KB\n",
      "\n",
      "The following NEW packages will be INSTALLED:\n",
      "\n",
      "    geographiclib: 1.49-py_0   conda-forge\n",
      "    geopy:         1.18.1-py_0 conda-forge\n",
      "\n",
      "\n",
      "Downloading and Extracting Packages\n",
      "geopy-1.18.1         | 51 KB     | ##################################### | 100% \n",
      "geographiclib-1.49   | 32 KB     | ##################################### | 100% \n",
      "Preparing transaction: done\n",
      "Verifying transaction: done\n",
      "Executing transaction: done\n",
      "Solving environment: done\n",
      "\n",
      "## Package Plan ##\n",
      "\n",
      "  environment location: /home/jupyterlab/conda\n",
      "\n",
      "  added / updated specs: \n",
      "    - folium=0.5.0\n",
      "\n",
      "\n",
      "The following packages will be downloaded:\n",
      "\n",
      "    package                    |            build\n",
      "    ---------------------------|-----------------\n",
      "    vincent-0.4.4              |             py_1          28 KB  conda-forge\n",
      "    folium-0.5.0               |             py_0          45 KB  conda-forge\n",
      "    altair-2.3.0               |        py36_1001         533 KB  conda-forge\n",
      "    branca-0.3.1               |             py_0          25 KB  conda-forge\n",
      "    ------------------------------------------------------------\n",
      "                                           Total:         631 KB\n",
      "\n",
      "The following NEW packages will be INSTALLED:\n",
      "\n",
      "    altair:  2.3.0-py36_1001 conda-forge\n",
      "    branca:  0.3.1-py_0      conda-forge\n",
      "    folium:  0.5.0-py_0      conda-forge\n",
      "    vincent: 0.4.4-py_1      conda-forge\n",
      "\n",
      "\n",
      "Downloading and Extracting Packages\n",
      "vincent-0.4.4        | 28 KB     | ##################################### | 100% \n",
      "folium-0.5.0         | 45 KB     | ##################################### | 100% \n",
      "altair-2.3.0         | 533 KB    | ##################################### | 100% \n",
      "branca-0.3.1         | 25 KB     | ##################################### | 100% \n",
      "Preparing transaction: done\n",
      "Verifying transaction: done\n",
      "Executing transaction: done\n",
      "Solving environment: done\n",
      "\n",
      "## Package Plan ##\n",
      "\n",
      "  environment location: /home/jupyterlab/conda\n",
      "\n",
      "  added / updated specs: \n",
      "    - shapely\n",
      "\n",
      "\n",
      "The following packages will be downloaded:\n",
      "\n",
      "    package                    |            build\n",
      "    ---------------------------|-----------------\n",
      "    shapely-1.6.4              |   py36h164cb2d_1         749 KB  conda-forge\n",
      "\n",
      "The following NEW packages will be INSTALLED:\n",
      "\n",
      "    shapely: 1.6.4-py36h164cb2d_1 conda-forge\n",
      "\n",
      "\n",
      "Downloading and Extracting Packages\n",
      "shapely-1.6.4        | 749 KB    | ##################################### | 100% \n",
      "Preparing transaction: done\n",
      "Verifying transaction: done\n",
      "Executing transaction: done\n"
     ]
    }
   ],
   "source": [
    "import numpy as np\n",
    "\n",
    "import pandas as pd\n",
    "from pandas.io.json import json_normalize\n",
    "\n",
    "import matplotlib.pyplot as plt\n",
    "import matplotlib.cm as cm\n",
    "import matplotlib.colors as colors\n",
    "\n",
    "import json\n",
    "!conda install -c conda-forge geopy --yes\n",
    "from geopy.geocoders import Nominatim\n",
    "\n",
    "import requests\n",
    "import io\n",
    "import time\n",
    "import random\n",
    "\n",
    "from sklearn.cluster import KMeans\n",
    "\n",
    "!conda install -c conda-forge folium=0.5.0 --yes\n",
    "import folium\n",
    "\n",
    "!conda install -c conda-forge shapely --yes\n",
    "from shapely.geometry import Point\n",
    "from shapely.geometry.polygon import Polygon\n",
    "from shapely.ops import cascaded_union"
   ]
  },
  {
   "cell_type": "markdown",
   "metadata": {},
   "source": [
    "## 1. Read the json file containing the districts of SF"
   ]
  },
  {
   "cell_type": "code",
   "execution_count": 2,
   "metadata": {},
   "outputs": [
    {
     "name": "stderr",
     "output_type": "stream",
     "text": [
      "/home/jupyterlab/conda/lib/python3.6/site-packages/ipykernel_launcher.py:1: DeprecationWarning: Using Nominatim with the default \"geopy/1.18.1\" `user_agent` is strongly discouraged, as it violates Nominatim's ToS https://operations.osmfoundation.org/policies/nominatim/ and may possibly cause 403 and 429 HTTP errors. Please specify a custom `user_agent` with `Nominatim(user_agent=\"my-application\")` or by overriding the default `user_agent`: `geopy.geocoders.options.default_user_agent = \"my-application\"`. In geopy 2.0 this will become an exception.\n",
      "  \"\"\"Entry point for launching an IPython kernel.\n"
     ]
    }
   ],
   "source": [
    "geolocator = Nominatim()\n",
    "location = geolocator.geocode('San Francisco, United States of America')\n",
    "latitude = location.latitude\n",
    "longitude = location.longitude"
   ]
  },
  {
   "cell_type": "code",
   "execution_count": 3,
   "metadata": {},
   "outputs": [
    {
     "data": {
      "text/html": [
       "<div>\n",
       "<style scoped>\n",
       "    .dataframe tbody tr th:only-of-type {\n",
       "        vertical-align: middle;\n",
       "    }\n",
       "\n",
       "    .dataframe tbody tr th {\n",
       "        vertical-align: top;\n",
       "    }\n",
       "\n",
       "    .dataframe thead th {\n",
       "        text-align: right;\n",
       "    }\n",
       "</style>\n",
       "<table border=\"1\" class=\"dataframe\">\n",
       "  <thead>\n",
       "    <tr style=\"text-align: right;\">\n",
       "      <th></th>\n",
       "      <th>DISTRICT</th>\n",
       "      <th>center</th>\n",
       "    </tr>\n",
       "  </thead>\n",
       "  <tbody>\n",
       "    <tr>\n",
       "      <th>0</th>\n",
       "      <td>CENTRAL</td>\n",
       "      <td>(-122.40986637030326, 37.79849069540497)</td>\n",
       "    </tr>\n",
       "    <tr>\n",
       "      <th>1</th>\n",
       "      <td>SOUTHERN</td>\n",
       "      <td>(-122.40167249599693, 37.77981562951606)</td>\n",
       "    </tr>\n",
       "    <tr>\n",
       "      <th>2</th>\n",
       "      <td>SOUTHERN</td>\n",
       "      <td>(-122.36957296618579, 37.820752443701345)</td>\n",
       "    </tr>\n",
       "    <tr>\n",
       "      <th>3</th>\n",
       "      <td>BAYVIEW</td>\n",
       "      <td>(-122.3898868766557, 37.73714403652807)</td>\n",
       "    </tr>\n",
       "    <tr>\n",
       "      <th>4</th>\n",
       "      <td>MISSION</td>\n",
       "      <td>(-122.42263637653645, 37.75756433683498)</td>\n",
       "    </tr>\n",
       "  </tbody>\n",
       "</table>\n",
       "</div>"
      ],
      "text/plain": [
       "   DISTRICT                                     center\n",
       "0   CENTRAL   (-122.40986637030326, 37.79849069540497)\n",
       "1  SOUTHERN   (-122.40167249599693, 37.77981562951606)\n",
       "2  SOUTHERN  (-122.36957296618579, 37.820752443701345)\n",
       "3   BAYVIEW    (-122.3898868766557, 37.73714403652807)\n",
       "4   MISSION   (-122.42263637653645, 37.75756433683498)"
      ]
     },
     "execution_count": 3,
     "metadata": {},
     "output_type": "execute_result"
    }
   ],
   "source": [
    "geo = json.load(open('san-francisco.geojson','r'))\n",
    "distr=[]\n",
    "c_points=[]\n",
    "polygons=[]\n",
    "\n",
    "for prop in geo['features']:\n",
    "    for i in range(len(prop['geometry']['coordinates'])):\n",
    "        points=[]\n",
    "        \n",
    "        distr.append( prop['properties']['DISTRICT'] )\n",
    "\n",
    "        if len(prop['geometry']['coordinates'])<=1:\n",
    "            coords_=prop['geometry']['coordinates'][i]\n",
    "        else:\n",
    "            coords_=prop['geometry']['coordinates'][i][0]\n",
    "        \n",
    "        poly=Polygon(coords_)\n",
    "        polygons.append(poly)    \n",
    "        c_points.append(poly.centroid.coords[0])\n",
    "\n",
    "df=pd.DataFrame({'DISTRICT': distr,'center': c_points})\n",
    "df.head()"
   ]
  },
  {
   "cell_type": "code",
   "execution_count": 4,
   "metadata": {},
   "outputs": [],
   "source": [
    "step=10\n",
    "boundary=cascaded_union(polygons)\n",
    "bounds=boundary.bounds\n",
    "dx=(bounds[2]-bounds[0])/step/2\n",
    "dy=(bounds[3]-bounds[1])/step/2"
   ]
  },
  {
   "cell_type": "markdown",
   "metadata": {},
   "source": [
    "The shapely package is used to define areas within the city border of SF:"
   ]
  },
  {
   "cell_type": "code",
   "execution_count": 5,
   "metadata": {},
   "outputs": [],
   "source": [
    "coords=[]\n",
    "location=[]\n",
    "temp=[]\n",
    "\n",
    "for i in range(16):\n",
    "    for j in range(16):\n",
    "        temp.append([0.05+i/step,0.05+j/step])\n",
    "\n",
    "for i in range(len(temp)):\n",
    "    x=bounds[0]+temp[i][0]*(bounds[2]-bounds[0])\n",
    "    y=bounds[1]+temp[i][1]*(bounds[3]-bounds[1])\n",
    "    j=0\n",
    "    for poly in polygons:\n",
    "        if poly.contains(Point(x,y)):\n",
    "                coords.append(Point(x,y))\n",
    "                location.append(distr[j])\n",
    "                break\n",
    "        j=j+1\n",
    "        "
   ]
  },
  {
   "cell_type": "markdown",
   "metadata": {},
   "source": [
    "## 2. Use the Foursquare API to find restaurants in SF"
   ]
  },
  {
   "cell_type": "code",
   "execution_count": 8,
   "metadata": {},
   "outputs": [],
   "source": [
    "import time\n",
    "LIMIT=30\n",
    "CLIENT_ID = ''\n",
    "CLIENT_SECRET = '' \n",
    "VERSION = '20180605'"
   ]
  },
  {
   "cell_type": "code",
   "execution_count": 9,
   "metadata": {},
   "outputs": [],
   "source": [
    "def getNearbyVenues(point_list):\n",
    "    \n",
    "    venues_list=[]\n",
    "    j=0\n",
    "    for point in point_list:\n",
    "        sw=[point.y-dy,point.x-dx]\n",
    "        ne=[point.y+dy,point.x+dx]\n",
    "        \n",
    "        url = 'https://api.foursquare.com/v2/venues/search?&client_id={}&client_secret={}&v={}&intent={}&sw={},{}&ne={},{}&limit={}&categoryId={}'.format(\n",
    "            CLIENT_ID, \n",
    "            CLIENT_SECRET, \n",
    "            VERSION,\n",
    "            'browse',\n",
    "            sw[0],sw[1],\n",
    "            ne[0],ne[1],  \n",
    "            LIMIT,\n",
    "            '4d4b7105d754a06374d81259')\n",
    "        \n",
    "        results = requests.get(url).json()[\"response\"]['venues']\n",
    "        \n",
    "        venues_list.append([(\n",
    "            j, \n",
    "            v['id'],\n",
    "            v['name'],\n",
    "            v['location']['lat'],\n",
    "            v['location']['lng'],\n",
    "            v['categories'][0]['shortName']) for v in results])\n",
    "        j=j+1\n",
    "\n",
    "    print('done')    \n",
    "    nearby_venues = pd.DataFrame([item for venue_list in venues_list for item in venue_list])\n",
    "    nearby_venues.columns = ['area', \n",
    "                  'Venue Id',\n",
    "                  'Venue Name',\n",
    "                  'Venue Latitude', \n",
    "                  'Venue Longitude', \n",
    "                  'Venue Category']\n",
    "    \n",
    "    return(nearby_venues)"
   ]
  },
  {
   "cell_type": "code",
   "execution_count": 10,
   "metadata": {},
   "outputs": [
    {
     "data": {
      "text/html": [
       "<div>\n",
       "<style scoped>\n",
       "    .dataframe tbody tr th:only-of-type {\n",
       "        vertical-align: middle;\n",
       "    }\n",
       "\n",
       "    .dataframe tbody tr th {\n",
       "        vertical-align: top;\n",
       "    }\n",
       "\n",
       "    .dataframe thead th {\n",
       "        text-align: right;\n",
       "    }\n",
       "</style>\n",
       "<table border=\"1\" class=\"dataframe\">\n",
       "  <thead>\n",
       "    <tr style=\"text-align: right;\">\n",
       "      <th></th>\n",
       "      <th>Unnamed: 0</th>\n",
       "      <th>area</th>\n",
       "      <th>Venue Id</th>\n",
       "      <th>Venue Name</th>\n",
       "      <th>Venue Latitude</th>\n",
       "      <th>Venue Longitude</th>\n",
       "      <th>Venue Category</th>\n",
       "    </tr>\n",
       "  </thead>\n",
       "  <tbody>\n",
       "    <tr>\n",
       "      <th>1484</th>\n",
       "      <td>1484</td>\n",
       "      <td>59</td>\n",
       "      <td>50292c37e4b07a366d3332d0</td>\n",
       "      <td>Above &amp; Beyond Catering</td>\n",
       "      <td>37.757490</td>\n",
       "      <td>-122.387996</td>\n",
       "      <td>Restaurant</td>\n",
       "    </tr>\n",
       "    <tr>\n",
       "      <th>1485</th>\n",
       "      <td>1485</td>\n",
       "      <td>60</td>\n",
       "      <td>587fffefd772f95ae76d0d44</td>\n",
       "      <td>Eclectic Cookery</td>\n",
       "      <td>37.728429</td>\n",
       "      <td>-122.365489</td>\n",
       "      <td>Restaurant</td>\n",
       "    </tr>\n",
       "    <tr>\n",
       "      <th>1486</th>\n",
       "      <td>1486</td>\n",
       "      <td>60</td>\n",
       "      <td>508e9cb7e4b0661bf61fa066</td>\n",
       "      <td>Sexy Pastries</td>\n",
       "      <td>37.729268</td>\n",
       "      <td>-122.371863</td>\n",
       "      <td>Bakery</td>\n",
       "    </tr>\n",
       "    <tr>\n",
       "      <th>1487</th>\n",
       "      <td>1487</td>\n",
       "      <td>60</td>\n",
       "      <td>4fa42275e4b0cbe2df0a8b2a</td>\n",
       "      <td>Taqueria Angelica's</td>\n",
       "      <td>37.727643</td>\n",
       "      <td>-122.368322</td>\n",
       "      <td>Food Truck</td>\n",
       "    </tr>\n",
       "    <tr>\n",
       "      <th>1488</th>\n",
       "      <td>1488</td>\n",
       "      <td>60</td>\n",
       "      <td>508e9ba1e4b055a759850961</td>\n",
       "      <td>Beating Those Cakes</td>\n",
       "      <td>37.729268</td>\n",
       "      <td>-122.371863</td>\n",
       "      <td>Bakery</td>\n",
       "    </tr>\n",
       "  </tbody>\n",
       "</table>\n",
       "</div>"
      ],
      "text/plain": [
       "      Unnamed: 0  area                  Venue Id               Venue Name  \\\n",
       "1484        1484    59  50292c37e4b07a366d3332d0  Above & Beyond Catering   \n",
       "1485        1485    60  587fffefd772f95ae76d0d44         Eclectic Cookery   \n",
       "1486        1486    60  508e9cb7e4b0661bf61fa066            Sexy Pastries   \n",
       "1487        1487    60  4fa42275e4b0cbe2df0a8b2a      Taqueria Angelica's   \n",
       "1488        1488    60  508e9ba1e4b055a759850961      Beating Those Cakes   \n",
       "\n",
       "      Venue Latitude  Venue Longitude Venue Category  \n",
       "1484       37.757490      -122.387996     Restaurant  \n",
       "1485       37.728429      -122.365489     Restaurant  \n",
       "1486       37.729268      -122.371863         Bakery  \n",
       "1487       37.727643      -122.368322     Food Truck  \n",
       "1488       37.729268      -122.371863         Bakery  "
      ]
     },
     "execution_count": 10,
     "metadata": {},
     "output_type": "execute_result"
    }
   ],
   "source": [
    "sf_venues = getNearbyVenues(coords)\n",
    "#sf_restaurants=pd.read_csv('sf_venues.csv')\n",
    "sf_restaurants.tail()"
   ]
  },
  {
   "cell_type": "markdown",
   "metadata": {},
   "source": [
    "## 3. Clean up the DataFrame"
   ]
  },
  {
   "cell_type": "markdown",
   "metadata": {},
   "source": [
    "### 3.1 Select Useful Venue Categories"
   ]
  },
  {
   "cell_type": "code",
   "execution_count": 20,
   "metadata": {},
   "outputs": [
    {
     "data": {
      "text/plain": [
       "array([ 0,  1,  2,  3,  4,  5,  6,  7,  8,  9, 10, 11, 12, 13, 14, 15, 16,\n",
       "       17, 18, 19, 20, 21, 22, 23, 24, 25, 26, 27, 28, 29, 30, 31, 32, 33,\n",
       "       34, 35, 36, 37, 38, 39, 40, 41, 42, 43, 44, 45, 46, 47, 48, 49, 50,\n",
       "       51, 52, 53, 54, 55, 56, 57, 58, 59, 60])"
      ]
     },
     "execution_count": 20,
     "metadata": {},
     "output_type": "execute_result"
    }
   ],
   "source": [
    "sf_restaurants['area'].unique()"
   ]
  },
  {
   "cell_type": "code",
   "execution_count": 11,
   "metadata": {},
   "outputs": [
    {
     "data": {
      "text/plain": [
       "array(['Pizza', 'Coffee Shop', 'Café', 'Sandwiches', 'Tacos', 'Chinese',\n",
       "       'Food Truck', 'Seafood', 'Food', 'Liquor Store', 'Event Space',\n",
       "       'Dumplings', 'Fast Food', 'Bakery', 'Mexican', 'Korean', 'Burgers',\n",
       "       'Diner', 'Food Court', 'Ice Cream', 'American', 'BBQ', 'Indian',\n",
       "       'Grocery Store', 'Vegetarian / Vegan', 'Brewery', 'Vietnamese',\n",
       "       'Thai', 'Breakfast', 'Mediterranean', 'Asian', 'Ramen',\n",
       "       'Middle Eastern', 'Japanese', 'Cafeteria', 'Deli / Bodega',\n",
       "       'Cantonese', 'Hot Dogs', 'Snacks', 'Bagels', 'Sushi', 'Burritos',\n",
       "       'Hawaiian', 'Gastropub', 'Bar', 'Italian', 'Bubble Tea',\n",
       "       'Cupcakes', 'Dim Sum', 'Taiwanese', 'Desserts', 'Donuts',\n",
       "       'Restaurant', 'Steakhouse', 'New American', 'Southern / Soul',\n",
       "       'Church', 'Convenience Store', 'Golf Course', 'Poke Place', 'Udon',\n",
       "       \"Farmer's Market\", 'Candy Store', 'Juice Bar', 'Greek',\n",
       "       'North Indian', 'Tea Room', 'Hotpot', 'Toys & Games', 'Ethiopian',\n",
       "       'Pub', 'Irish', 'Japanese Curry', 'Spanish', 'Fondue', 'Filipino',\n",
       "       'Pakistani', 'Noodles', 'Cha Chaan Teng', 'Yogurt', 'Peruvian',\n",
       "       'Brazilian', 'French', 'Persian', 'Caribbean', 'Tapas', 'Burmese',\n",
       "       'Beer Bar', 'Eastern European', 'Latin American', 'Fried Chicken',\n",
       "       'Hunan', 'Boarding', 'Dutch', 'Cocktail', 'Cheese Shop', 'Market',\n",
       "       'Souvlaki', 'Wine Bar', 'Sports Bar', 'Creperie', 'Tech Startup',\n",
       "       'Salad', 'Beer Garden', 'Scandinavian', 'Karaoke', 'Smoothie Shop',\n",
       "       'Chocolate Shop', 'German', 'Belgian', 'Bike Shop', 'African',\n",
       "       'Butcher', 'Salvadoran', 'Gourmet', 'Argentinian', 'Jewish',\n",
       "       'South American', 'Laundry', 'Supermarket', 'Dive Bar',\n",
       "       'Cajun / Creole', 'Bowling Alley', 'Gluten-free', 'Food & Drink',\n",
       "       'Coworking Space', 'Whisky Bar', 'English', 'Halal', 'Tiki Bar',\n",
       "       'Szechuan', 'Bistro', 'Flower Shop', 'Buffet', 'Skating Rink',\n",
       "       'Office', 'Non-Profit', 'Molecular Gastronomy', 'Factory'],\n",
       "      dtype=object)"
      ]
     },
     "execution_count": 11,
     "metadata": {},
     "output_type": "execute_result"
    }
   ],
   "source": [
    "cat_list=sf_restaurants['Venue Category'].unique()\n",
    "cat_list"
   ]
  },
  {
   "cell_type": "code",
   "execution_count": 12,
   "metadata": {},
   "outputs": [],
   "source": [
    "invalid_places=['Event Space','Brewery','Church','Golf Course','Poke Place','Butcher',\n",
    "                'Toys & Games','Cocktail','Tech Startup', 'Karaoke','Bowling Alley','Coworking Space','Skating Rink','Office', 'Non-Profit','Factory']\n",
    "for place in cat_list:\n",
    "    if place.find(\"Bar\") > -1 or place.find(\"Shop\") > -1 :\n",
    "            invalid_places.append(place)\n",
    "    elif place.find(\"Store\") > -1 or place.find(\"arket\") > -1:\n",
    "            invalid_places.append(place)"
   ]
  },
  {
   "cell_type": "code",
   "execution_count": 13,
   "metadata": {},
   "outputs": [],
   "source": [
    "df=sf_restaurants\n",
    "valid_places= np.setdiff1d(cat_list,invalid_places)\n",
    "df=df[ df['Venue Category'].isin(  valid_places )]"
   ]
  },
  {
   "cell_type": "code",
   "execution_count": 14,
   "metadata": {},
   "outputs": [
    {
     "data": {
      "text/html": [
       "<div>\n",
       "<style scoped>\n",
       "    .dataframe tbody tr th:only-of-type {\n",
       "        vertical-align: middle;\n",
       "    }\n",
       "\n",
       "    .dataframe tbody tr th {\n",
       "        vertical-align: top;\n",
       "    }\n",
       "\n",
       "    .dataframe thead th {\n",
       "        text-align: right;\n",
       "    }\n",
       "</style>\n",
       "<table border=\"1\" class=\"dataframe\">\n",
       "  <thead>\n",
       "    <tr style=\"text-align: right;\">\n",
       "      <th></th>\n",
       "      <th>Category Count</th>\n",
       "    </tr>\n",
       "    <tr>\n",
       "      <th>Venue Category</th>\n",
       "      <th></th>\n",
       "    </tr>\n",
       "  </thead>\n",
       "  <tbody>\n",
       "    <tr>\n",
       "      <th>Café</th>\n",
       "      <td>97</td>\n",
       "    </tr>\n",
       "    <tr>\n",
       "      <th>Chinese</th>\n",
       "      <td>80</td>\n",
       "    </tr>\n",
       "    <tr>\n",
       "      <th>Bakery</th>\n",
       "      <td>65</td>\n",
       "    </tr>\n",
       "    <tr>\n",
       "      <th>Mexican</th>\n",
       "      <td>58</td>\n",
       "    </tr>\n",
       "    <tr>\n",
       "      <th>American</th>\n",
       "      <td>47</td>\n",
       "    </tr>\n",
       "  </tbody>\n",
       "</table>\n",
       "</div>"
      ],
      "text/plain": [
       "                Category Count\n",
       "Venue Category                \n",
       "Café                        97\n",
       "Chinese                     80\n",
       "Bakery                      65\n",
       "Mexican                     58\n",
       "American                    47"
      ]
     },
     "execution_count": 14,
     "metadata": {},
     "output_type": "execute_result"
    }
   ],
   "source": [
    "cat_count=df[['Venue Id','Venue Category']].groupby('Venue Category').count()\n",
    "cat_count=cat_count.rename(columns={'Venue Id':'Category Count'}).sort_values(by='Category Count', ascending=False)\n",
    "cat_count.head()"
   ]
  },
  {
   "cell_type": "code",
   "execution_count": 55,
   "metadata": {},
   "outputs": [
    {
     "data": {
      "text/plain": [
       "array([[<matplotlib.axes._subplots.AxesSubplot object at 0x7f64206ccf60>]],\n",
       "      dtype=object)"
      ]
     },
     "execution_count": 55,
     "metadata": {},
     "output_type": "execute_result"
    },
    {
     "data": {
      "image/png": "[encoded data removed]",
      "text/plain": [
       "<Figure size 432x288 with 1 Axes>"
      ]
     },
     "metadata": {
      "needs_background": "light"
     },
     "output_type": "display_data"
    }
   ],
   "source": [
    "cat_count.hist(bins=5)"
   ]
  },
  {
   "cell_type": "markdown",
   "metadata": {},
   "source": [
    "### 3.2 Exlude areas that contains too few data points"
   ]
  },
  {
   "cell_type": "code",
   "execution_count": 16,
   "metadata": {},
   "outputs": [
    {
     "data": {
      "text/plain": [
       "<matplotlib.axes._subplots.AxesSubplot at 0x7f6421245160>"
      ]
     },
     "execution_count": 16,
     "metadata": {},
     "output_type": "execute_result"
    },
    {
     "data": {
      "image/png": "[encoded data removed]",
      "text/plain": [
       "<Figure size 432x288 with 1 Axes>"
      ]
     },
     "metadata": {
      "needs_background": "light"
     },
     "output_type": "display_data"
    }
   ],
   "source": [
    "df['area'].hist(bins=max(df['area']),label='Area Count')"
   ]
  },
  {
   "cell_type": "markdown",
   "metadata": {},
   "source": [
    "As one can see, not all areas have the same amount of venues in them"
   ]
  },
  {
   "cell_type": "code",
   "execution_count": 17,
   "metadata": {},
   "outputs": [
    {
     "data": {
      "text/plain": [
       "13.00262406171137"
      ]
     },
     "execution_count": 17,
     "metadata": {},
     "output_type": "execute_result"
    }
   ],
   "source": [
    "area_count=df[['area','Venue Category']].groupby('area').count()\n",
    "area_count=area_count.rename(columns={'Venue Category':'Area Count'}).sort_values(by='Area Count', ascending=False)\n",
    "lower_bound=area_count['Area Count'].mean()-area_count['Area Count'].std()\n",
    "lower_bound"
   ]
  },
  {
   "cell_type": "code",
   "execution_count": 18,
   "metadata": {},
   "outputs": [
    {
     "data": {
      "text/plain": [
       "50"
      ]
     },
     "execution_count": 18,
     "metadata": {},
     "output_type": "execute_result"
    }
   ],
   "source": [
    "take_areas=area_count[area_count['Area Count']>=lower_bound].reset_index()\n",
    "df=df[ df['area'].isin(  take_areas['area'] )]\n",
    "len(df['area'].unique())"
   ]
  },
  {
   "cell_type": "markdown",
   "metadata": {},
   "source": [
    "We have eliminated all areas, that contain at least 13 locations for further evaluation."
   ]
  },
  {
   "cell_type": "code",
   "execution_count": 21,
   "metadata": {},
   "outputs": [
    {
     "name": "stdout",
     "output_type": "stream",
     "text": [
      "(1143, 7)\n"
     ]
    },
    {
     "data": {
      "text/html": [
       "<div>\n",
       "<style scoped>\n",
       "    .dataframe tbody tr th:only-of-type {\n",
       "        vertical-align: middle;\n",
       "    }\n",
       "\n",
       "    .dataframe tbody tr th {\n",
       "        vertical-align: top;\n",
       "    }\n",
       "\n",
       "    .dataframe thead th {\n",
       "        text-align: right;\n",
       "    }\n",
       "</style>\n",
       "<table border=\"1\" class=\"dataframe\">\n",
       "  <thead>\n",
       "    <tr style=\"text-align: right;\">\n",
       "      <th></th>\n",
       "      <th>area</th>\n",
       "      <th>Venue Id</th>\n",
       "      <th>Venue Name</th>\n",
       "      <th>Venue Latitude</th>\n",
       "      <th>Venue Longitude</th>\n",
       "      <th>Venue Category</th>\n",
       "    </tr>\n",
       "  </thead>\n",
       "  <tbody>\n",
       "    <tr>\n",
       "      <th>2</th>\n",
       "      <td>1</td>\n",
       "      <td>4b65edd2f964a520f9082be3</td>\n",
       "      <td>Leaping Lemur Café</td>\n",
       "      <td>37.733188</td>\n",
       "      <td>-122.503240</td>\n",
       "      <td>Café</td>\n",
       "    </tr>\n",
       "    <tr>\n",
       "      <th>4</th>\n",
       "      <td>1</td>\n",
       "      <td>49cc7e5af964a52084591fe3</td>\n",
       "      <td>Java Beach Cafe</td>\n",
       "      <td>37.735671</td>\n",
       "      <td>-122.503049</td>\n",
       "      <td>Sandwiches</td>\n",
       "    </tr>\n",
       "    <tr>\n",
       "      <th>5</th>\n",
       "      <td>1</td>\n",
       "      <td>5c170ddd5f68b9002c632e5c</td>\n",
       "      <td>Underdogs Too</td>\n",
       "      <td>37.741892</td>\n",
       "      <td>-122.504763</td>\n",
       "      <td>Tacos</td>\n",
       "    </tr>\n",
       "    <tr>\n",
       "      <th>6</th>\n",
       "      <td>1</td>\n",
       "      <td>58f65b92aa6c9504bfb36af8</td>\n",
       "      <td>Streamline Coffee &amp; Kitchen</td>\n",
       "      <td>37.741859</td>\n",
       "      <td>-122.504548</td>\n",
       "      <td>Café</td>\n",
       "    </tr>\n",
       "    <tr>\n",
       "      <th>7</th>\n",
       "      <td>1</td>\n",
       "      <td>4a59b889f964a52084b91fe3</td>\n",
       "      <td>Old Mandarin Islamic Restaurant 老北京</td>\n",
       "      <td>37.738313</td>\n",
       "      <td>-122.500738</td>\n",
       "      <td>Chinese</td>\n",
       "    </tr>\n",
       "  </tbody>\n",
       "</table>\n",
       "</div>"
      ],
      "text/plain": [
       "   area                  Venue Id                           Venue Name  \\\n",
       "2     1  4b65edd2f964a520f9082be3                   Leaping Lemur Café   \n",
       "4     1  49cc7e5af964a52084591fe3                      Java Beach Cafe   \n",
       "5     1  5c170ddd5f68b9002c632e5c                        Underdogs Too   \n",
       "6     1  58f65b92aa6c9504bfb36af8          Streamline Coffee & Kitchen   \n",
       "7     1  4a59b889f964a52084b91fe3  Old Mandarin Islamic Restaurant 老北京   \n",
       "\n",
       "   Venue Latitude  Venue Longitude Venue Category  \n",
       "2       37.733188      -122.503240           Café  \n",
       "4       37.735671      -122.503049     Sandwiches  \n",
       "5       37.741892      -122.504763          Tacos  \n",
       "6       37.741859      -122.504548           Café  \n",
       "7       37.738313      -122.500738        Chinese  "
      ]
     },
     "execution_count": 21,
     "metadata": {},
     "output_type": "execute_result"
    }
   ],
   "source": [
    "print(df.shape)\n",
    "df=df.drop(columns=['Unnamed: 0'])\n",
    "df.head()"
   ]
  },
  {
   "cell_type": "markdown",
   "metadata": {},
   "source": [
    "## 4. Define a dictionary that transforms Venue Categories into integer values"
   ]
  },
  {
   "cell_type": "code",
   "execution_count": 22,
   "metadata": {},
   "outputs": [],
   "source": [
    "labels=df['Venue Category'].unique()\n",
    "int_labels={}\n",
    "str_labels={}\n",
    "j=0\n",
    "for v in labels:\n",
    "    int_labels[v]=j\n",
    "    str_labels[j]=v\n",
    "    j=j+1"
   ]
  },
  {
   "cell_type": "code",
   "execution_count": 35,
   "metadata": {},
   "outputs": [
    {
     "data": {
      "text/html": [
       "<div>\n",
       "<style scoped>\n",
       "    .dataframe tbody tr th:only-of-type {\n",
       "        vertical-align: middle;\n",
       "    }\n",
       "\n",
       "    .dataframe tbody tr th {\n",
       "        vertical-align: top;\n",
       "    }\n",
       "\n",
       "    .dataframe thead th {\n",
       "        text-align: right;\n",
       "    }\n",
       "</style>\n",
       "<table border=\"1\" class=\"dataframe\">\n",
       "  <thead>\n",
       "    <tr style=\"text-align: right;\">\n",
       "      <th></th>\n",
       "      <th>area</th>\n",
       "      <th>Venue Id</th>\n",
       "      <th>Venue Name</th>\n",
       "      <th>Venue Latitude</th>\n",
       "      <th>Venue Longitude</th>\n",
       "      <th>Venue Category</th>\n",
       "    </tr>\n",
       "  </thead>\n",
       "  <tbody>\n",
       "    <tr>\n",
       "      <th>2</th>\n",
       "      <td>1</td>\n",
       "      <td>4b65edd2f964a520f9082be3</td>\n",
       "      <td>Leaping Lemur Café</td>\n",
       "      <td>37.733188</td>\n",
       "      <td>-122.503240</td>\n",
       "      <td>0</td>\n",
       "    </tr>\n",
       "    <tr>\n",
       "      <th>4</th>\n",
       "      <td>1</td>\n",
       "      <td>49cc7e5af964a52084591fe3</td>\n",
       "      <td>Java Beach Cafe</td>\n",
       "      <td>37.735671</td>\n",
       "      <td>-122.503049</td>\n",
       "      <td>1</td>\n",
       "    </tr>\n",
       "    <tr>\n",
       "      <th>5</th>\n",
       "      <td>1</td>\n",
       "      <td>5c170ddd5f68b9002c632e5c</td>\n",
       "      <td>Underdogs Too</td>\n",
       "      <td>37.741892</td>\n",
       "      <td>-122.504763</td>\n",
       "      <td>2</td>\n",
       "    </tr>\n",
       "    <tr>\n",
       "      <th>6</th>\n",
       "      <td>1</td>\n",
       "      <td>58f65b92aa6c9504bfb36af8</td>\n",
       "      <td>Streamline Coffee &amp; Kitchen</td>\n",
       "      <td>37.741859</td>\n",
       "      <td>-122.504548</td>\n",
       "      <td>0</td>\n",
       "    </tr>\n",
       "    <tr>\n",
       "      <th>7</th>\n",
       "      <td>1</td>\n",
       "      <td>4a59b889f964a52084b91fe3</td>\n",
       "      <td>Old Mandarin Islamic Restaurant 老北京</td>\n",
       "      <td>37.738313</td>\n",
       "      <td>-122.500738</td>\n",
       "      <td>3</td>\n",
       "    </tr>\n",
       "  </tbody>\n",
       "</table>\n",
       "</div>"
      ],
      "text/plain": [
       "   area                  Venue Id                           Venue Name  \\\n",
       "2     1  4b65edd2f964a520f9082be3                   Leaping Lemur Café   \n",
       "4     1  49cc7e5af964a52084591fe3                      Java Beach Cafe   \n",
       "5     1  5c170ddd5f68b9002c632e5c                        Underdogs Too   \n",
       "6     1  58f65b92aa6c9504bfb36af8          Streamline Coffee & Kitchen   \n",
       "7     1  4a59b889f964a52084b91fe3  Old Mandarin Islamic Restaurant 老北京   \n",
       "\n",
       "   Venue Latitude  Venue Longitude  Venue Category  \n",
       "2       37.733188      -122.503240               0  \n",
       "4       37.735671      -122.503049               1  \n",
       "5       37.741892      -122.504763               2  \n",
       "6       37.741859      -122.504548               0  \n",
       "7       37.738313      -122.500738               3  "
      ]
     },
     "execution_count": 35,
     "metadata": {},
     "output_type": "execute_result"
    }
   ],
   "source": [
    "df2=df.copy()\n",
    "df2['Venue Category']=df2['Venue Category'].map(int_labels)\n",
    "df2.head()"
   ]
  },
  {
   "cell_type": "code",
   "execution_count": 4,
   "metadata": {},
   "outputs": [
    {
     "data": {
      "text/html": [
       "<div>\n",
       "<style scoped>\n",
       "    .dataframe tbody tr th:only-of-type {\n",
       "        vertical-align: middle;\n",
       "    }\n",
       "\n",
       "    .dataframe tbody tr th {\n",
       "        vertical-align: top;\n",
       "    }\n",
       "\n",
       "    .dataframe thead th {\n",
       "        text-align: right;\n",
       "    }\n",
       "</style>\n",
       "<table border=\"1\" class=\"dataframe\">\n",
       "  <thead>\n",
       "    <tr style=\"text-align: right;\">\n",
       "      <th></th>\n",
       "      <th>Unnamed: 0</th>\n",
       "      <th>area</th>\n",
       "      <th>Venue Id</th>\n",
       "      <th>Venue Name</th>\n",
       "      <th>Venue Latitude</th>\n",
       "      <th>Venue Longitude</th>\n",
       "      <th>Venue Category</th>\n",
       "    </tr>\n",
       "  </thead>\n",
       "  <tbody>\n",
       "    <tr>\n",
       "      <th>0</th>\n",
       "      <td>207</td>\n",
       "      <td>11</td>\n",
       "      <td>56343465498e0e6662abacc3</td>\n",
       "      <td>Fei Kitchen</td>\n",
       "      <td>37.718004</td>\n",
       "      <td>-122.474208</td>\n",
       "      <td>Chinese</td>\n",
       "    </tr>\n",
       "    <tr>\n",
       "      <th>1</th>\n",
       "      <td>340</td>\n",
       "      <td>15</td>\n",
       "      <td>4b636f17f964a52083792ae3</td>\n",
       "      <td>Irving Subs</td>\n",
       "      <td>37.763965</td>\n",
       "      <td>-122.469471</td>\n",
       "      <td>Sandwiches</td>\n",
       "    </tr>\n",
       "    <tr>\n",
       "      <th>2</th>\n",
       "      <td>761</td>\n",
       "      <td>31</td>\n",
       "      <td>5127a9e2183f56cf2d7bfe9a</td>\n",
       "      <td>Chubby Noodle</td>\n",
       "      <td>37.799653</td>\n",
       "      <td>-122.437957</td>\n",
       "      <td>Noodles</td>\n",
       "    </tr>\n",
       "    <tr>\n",
       "      <th>3</th>\n",
       "      <td>929</td>\n",
       "      <td>38</td>\n",
       "      <td>583638538d8e9962925c86fe</td>\n",
       "      <td>Hinodeya Ramen Bar</td>\n",
       "      <td>37.786223</td>\n",
       "      <td>-122.429956</td>\n",
       "      <td>Ramen</td>\n",
       "    </tr>\n",
       "    <tr>\n",
       "      <th>4</th>\n",
       "      <td>292</td>\n",
       "      <td>14</td>\n",
       "      <td>4a56c167f964a520c1b51fe3</td>\n",
       "      <td>Noriega Teriyaki House</td>\n",
       "      <td>37.753931</td>\n",
       "      <td>-122.482702</td>\n",
       "      <td>Japanese</td>\n",
       "    </tr>\n",
       "  </tbody>\n",
       "</table>\n",
       "</div>"
      ],
      "text/plain": [
       "   Unnamed: 0  area                  Venue Id              Venue Name  \\\n",
       "0         207    11  56343465498e0e6662abacc3             Fei Kitchen   \n",
       "1         340    15  4b636f17f964a52083792ae3             Irving Subs   \n",
       "2         761    31  5127a9e2183f56cf2d7bfe9a           Chubby Noodle   \n",
       "3         929    38  583638538d8e9962925c86fe      Hinodeya Ramen Bar   \n",
       "4         292    14  4a56c167f964a520c1b51fe3  Noriega Teriyaki House   \n",
       "\n",
       "   Venue Latitude  Venue Longitude Venue Category  \n",
       "0       37.718004      -122.474208        Chinese  \n",
       "1       37.763965      -122.469471     Sandwiches  \n",
       "2       37.799653      -122.437957        Noodles  \n",
       "3       37.786223      -122.429956          Ramen  \n",
       "4       37.753931      -122.482702       Japanese  "
      ]
     },
     "execution_count": 4,
     "metadata": {},
     "output_type": "execute_result"
    }
   ],
   "source": [
    "#df.to_csv('venues_cleaned.csv')\n",
    "df=pd.read_csv('venues_cleaned.csv')"
   ]
  },
  {
   "cell_type": "markdown",
   "metadata": {},
   "source": [
    "## 5. Get the likes and users of each restaurant"
   ]
  },
  {
   "cell_type": "code",
   "execution_count": 23,
   "metadata": {},
   "outputs": [],
   "source": [
    "def get_Likes(venues_id):\n",
    "    like_list=[]\n",
    "\n",
    "    for id in venues_id['Venue Id']:\n",
    "    \n",
    "        url = 'https://api.foursquare.com/v2/venues/{}/likes?&client_id={}&client_secret={}&v={}'.format(\n",
    "           id,\n",
    "           CLIENT_ID, \n",
    "           CLIENT_SECRET, \n",
    "           VERSION\n",
    "         )\n",
    "        results = requests.get(url).json()[\"response\"]\n",
    "        if bool(results):\n",
    "        \n",
    "            results = results['likes']\n",
    "            user_likes=[]\n",
    "            if 'items' in results:\n",
    "                for v in results['items']: \n",
    "                    user_likes.append(v['id'])\n",
    "                \n",
    "            like_list.append([(\n",
    "                id, \n",
    "                results['count'],\n",
    "                ','.join([str(x) for x in user_likes]),\n",
    "                )])\n",
    "        else:\n",
    "            break\n",
    "\n",
    "    print('done')    \n",
    "    likes_df = pd.DataFrame([item for venue_list in like_list for item in venue_list])\n",
    "    likes_df.columns = ['Venue Id',\n",
    "                'Like Count',\n",
    "                   'Users']\n",
    "    \n",
    "    return(likes_df)"
   ]
  },
  {
   "cell_type": "code",
   "execution_count": 24,
   "metadata": {},
   "outputs": [
    {
     "data": {
      "text/plain": [
       "(1142, 5)"
      ]
     },
     "execution_count": 24,
     "metadata": {},
     "output_type": "execute_result"
    }
   ],
   "source": [
    "#likes_df=get_Likes(df)\n",
    "likes_df=pd.read_csv('likes_df.csv')\n",
    "likes_df.shape"
   ]
  },
  {
   "cell_type": "code",
   "execution_count": 44,
   "metadata": {},
   "outputs": [
    {
     "data": {
      "text/html": [
       "<div>\n",
       "<style scoped>\n",
       "    .dataframe tbody tr th:only-of-type {\n",
       "        vertical-align: middle;\n",
       "    }\n",
       "\n",
       "    .dataframe tbody tr th {\n",
       "        vertical-align: top;\n",
       "    }\n",
       "\n",
       "    .dataframe thead th {\n",
       "        text-align: right;\n",
       "    }\n",
       "</style>\n",
       "<table border=\"1\" class=\"dataframe\">\n",
       "  <thead>\n",
       "    <tr style=\"text-align: right;\">\n",
       "      <th></th>\n",
       "      <th>area</th>\n",
       "      <th>Venue Id</th>\n",
       "      <th>Venue Name</th>\n",
       "      <th>Venue Latitude</th>\n",
       "      <th>Venue Longitude</th>\n",
       "      <th>Venue Category</th>\n",
       "      <th>Unnamed: 0</th>\n",
       "      <th>Unnamed: 0.1</th>\n",
       "      <th>Like Count</th>\n",
       "      <th>Users</th>\n",
       "    </tr>\n",
       "  </thead>\n",
       "  <tbody>\n",
       "    <tr>\n",
       "      <th>0</th>\n",
       "      <td>1</td>\n",
       "      <td>4b65edd2f964a520f9082be3</td>\n",
       "      <td>Leaping Lemur Café</td>\n",
       "      <td>37.733188</td>\n",
       "      <td>-122.503240</td>\n",
       "      <td>Café</td>\n",
       "      <td>243</td>\n",
       "      <td>243</td>\n",
       "      <td>18</td>\n",
       "      <td>59655,61105173,3202140</td>\n",
       "    </tr>\n",
       "    <tr>\n",
       "      <th>1</th>\n",
       "      <td>1</td>\n",
       "      <td>49cc7e5af964a52084591fe3</td>\n",
       "      <td>Java Beach Cafe</td>\n",
       "      <td>37.735671</td>\n",
       "      <td>-122.503049</td>\n",
       "      <td>Sandwiches</td>\n",
       "      <td>934</td>\n",
       "      <td>934</td>\n",
       "      <td>122</td>\n",
       "      <td>444299,20996810,74343449</td>\n",
       "    </tr>\n",
       "    <tr>\n",
       "      <th>2</th>\n",
       "      <td>1</td>\n",
       "      <td>5c170ddd5f68b9002c632e5c</td>\n",
       "      <td>Underdogs Too</td>\n",
       "      <td>37.741892</td>\n",
       "      <td>-122.504763</td>\n",
       "      <td>Tacos</td>\n",
       "      <td>195</td>\n",
       "      <td>195</td>\n",
       "      <td>1</td>\n",
       "      <td>69868</td>\n",
       "    </tr>\n",
       "    <tr>\n",
       "      <th>3</th>\n",
       "      <td>1</td>\n",
       "      <td>58f65b92aa6c9504bfb36af8</td>\n",
       "      <td>Streamline Coffee &amp; Kitchen</td>\n",
       "      <td>37.741859</td>\n",
       "      <td>-122.504548</td>\n",
       "      <td>Café</td>\n",
       "      <td>161</td>\n",
       "      <td>161</td>\n",
       "      <td>24</td>\n",
       "      <td>972896,20459137,31716</td>\n",
       "    </tr>\n",
       "    <tr>\n",
       "      <th>4</th>\n",
       "      <td>1</td>\n",
       "      <td>4a59b889f964a52084b91fe3</td>\n",
       "      <td>Old Mandarin Islamic Restaurant 老北京</td>\n",
       "      <td>37.738313</td>\n",
       "      <td>-122.500738</td>\n",
       "      <td>Chinese</td>\n",
       "      <td>112</td>\n",
       "      <td>112</td>\n",
       "      <td>138</td>\n",
       "      <td>47621,84357752,47985968</td>\n",
       "    </tr>\n",
       "  </tbody>\n",
       "</table>\n",
       "</div>"
      ],
      "text/plain": [
       "   area                  Venue Id                           Venue Name  \\\n",
       "0     1  4b65edd2f964a520f9082be3                   Leaping Lemur Café   \n",
       "1     1  49cc7e5af964a52084591fe3                      Java Beach Cafe   \n",
       "2     1  5c170ddd5f68b9002c632e5c                        Underdogs Too   \n",
       "3     1  58f65b92aa6c9504bfb36af8          Streamline Coffee & Kitchen   \n",
       "4     1  4a59b889f964a52084b91fe3  Old Mandarin Islamic Restaurant 老北京   \n",
       "\n",
       "   Venue Latitude  Venue Longitude Venue Category  Unnamed: 0  Unnamed: 0.1  \\\n",
       "0       37.733188      -122.503240           Café         243           243   \n",
       "1       37.735671      -122.503049     Sandwiches         934           934   \n",
       "2       37.741892      -122.504763          Tacos         195           195   \n",
       "3       37.741859      -122.504548           Café         161           161   \n",
       "4       37.738313      -122.500738        Chinese         112           112   \n",
       "\n",
       "   Like Count                     Users  \n",
       "0          18    59655,61105173,3202140  \n",
       "1         122  444299,20996810,74343449  \n",
       "2           1                     69868  \n",
       "3          24     972896,20459137,31716  \n",
       "4         138   47621,84357752,47985968  "
      ]
     },
     "execution_count": 44,
     "metadata": {},
     "output_type": "execute_result"
    }
   ],
   "source": [
    "df2=df.merge(likes_df,on='Venue Id')\n",
    "df2.head()"
   ]
  },
  {
   "cell_type": "code",
   "execution_count": 45,
   "metadata": {},
   "outputs": [
    {
     "data": {
      "text/plain": [
       "(1142, 10)"
      ]
     },
     "execution_count": 45,
     "metadata": {},
     "output_type": "execute_result"
    }
   ],
   "source": [
    "df2.shape"
   ]
  },
  {
   "cell_type": "markdown",
   "metadata": {},
   "source": [
    "## 6. Cluster the data and plot the average likes per area"
   ]
  },
  {
   "cell_type": "code",
   "execution_count": 80,
   "metadata": {},
   "outputs": [
    {
     "data": {
      "text/html": [
       "<div>\n",
       "<style scoped>\n",
       "    .dataframe tbody tr th:only-of-type {\n",
       "        vertical-align: middle;\n",
       "    }\n",
       "\n",
       "    .dataframe tbody tr th {\n",
       "        vertical-align: top;\n",
       "    }\n",
       "\n",
       "    .dataframe thead th {\n",
       "        text-align: right;\n",
       "    }\n",
       "</style>\n",
       "<table border=\"1\" class=\"dataframe\">\n",
       "  <thead>\n",
       "    <tr style=\"text-align: right;\">\n",
       "      <th></th>\n",
       "      <th>area</th>\n",
       "      <th>Venue Category</th>\n",
       "      <th>Like Count</th>\n",
       "    </tr>\n",
       "  </thead>\n",
       "  <tbody>\n",
       "    <tr>\n",
       "      <th>679</th>\n",
       "      <td>36</td>\n",
       "      <td>Beer Garden</td>\n",
       "      <td>1914</td>\n",
       "    </tr>\n",
       "    <tr>\n",
       "      <th>1043</th>\n",
       "      <td>54</td>\n",
       "      <td>Burgers</td>\n",
       "      <td>1935</td>\n",
       "    </tr>\n",
       "    <tr>\n",
       "      <th>896</th>\n",
       "      <td>46</td>\n",
       "      <td>Gastropub</td>\n",
       "      <td>1974</td>\n",
       "    </tr>\n",
       "    <tr>\n",
       "      <th>674</th>\n",
       "      <td>36</td>\n",
       "      <td>Bakery</td>\n",
       "      <td>2220</td>\n",
       "    </tr>\n",
       "    <tr>\n",
       "      <th>683</th>\n",
       "      <td>36</td>\n",
       "      <td>Ice Cream</td>\n",
       "      <td>2223</td>\n",
       "    </tr>\n",
       "  </tbody>\n",
       "</table>\n",
       "</div>"
      ],
      "text/plain": [
       "      area Venue Category  Like Count\n",
       "679     36    Beer Garden        1914\n",
       "1043    54        Burgers        1935\n",
       "896     46      Gastropub        1974\n",
       "674     36         Bakery        2220\n",
       "683     36      Ice Cream        2223"
      ]
     },
     "execution_count": 80,
     "metadata": {},
     "output_type": "execute_result"
    }
   ],
   "source": [
    "like_count_temp=df2[['area','Venue Category','Like Count']].copy()\n",
    "like_count_temp.sort_values(by=['Like Count']).tail()"
   ]
  },
  {
   "cell_type": "code",
   "execution_count": 81,
   "metadata": {},
   "outputs": [
    {
     "data": {
      "text/plain": [
       "<matplotlib.axes._subplots.AxesSubplot at 0x7f6420974f98>"
      ]
     },
     "execution_count": 81,
     "metadata": {},
     "output_type": "execute_result"
    },
    {
     "data": {
      "image/png": "[encoded data removed]",
      "text/plain": [
       "<Figure size 432x288 with 1 Axes>"
      ]
     },
     "metadata": {
      "needs_background": "light"
     },
     "output_type": "display_data"
    }
   ],
   "source": [
    "like_count_temp=like_count_temp[['Venue Category','Like Count']].groupby('Venue Category').mean().sort_values(by=['Like Count'])\n",
    "like_count_temp['Like Count'].hist()"
   ]
  },
  {
   "cell_type": "code",
   "execution_count": 29,
   "metadata": {},
   "outputs": [
    {
     "data": {
      "text/html": [
       "<div>\n",
       "<style scoped>\n",
       "    .dataframe tbody tr th:only-of-type {\n",
       "        vertical-align: middle;\n",
       "    }\n",
       "\n",
       "    .dataframe tbody tr th {\n",
       "        vertical-align: top;\n",
       "    }\n",
       "\n",
       "    .dataframe thead th {\n",
       "        text-align: right;\n",
       "    }\n",
       "</style>\n",
       "<table border=\"1\" class=\"dataframe\">\n",
       "  <thead>\n",
       "    <tr style=\"text-align: right;\">\n",
       "      <th></th>\n",
       "      <th>Venue Category</th>\n",
       "      <th>Like Count</th>\n",
       "    </tr>\n",
       "  </thead>\n",
       "  <tbody>\n",
       "    <tr>\n",
       "      <th>0</th>\n",
       "      <td>Fondue</td>\n",
       "      <td>0.000000</td>\n",
       "    </tr>\n",
       "    <tr>\n",
       "      <th>1</th>\n",
       "      <td>Food</td>\n",
       "      <td>0.000076</td>\n",
       "    </tr>\n",
       "    <tr>\n",
       "      <th>2</th>\n",
       "      <td>Snacks</td>\n",
       "      <td>0.000522</td>\n",
       "    </tr>\n",
       "    <tr>\n",
       "      <th>3</th>\n",
       "      <td>Middle Eastern</td>\n",
       "      <td>0.000522</td>\n",
       "    </tr>\n",
       "    <tr>\n",
       "      <th>4</th>\n",
       "      <td>Bistro</td>\n",
       "      <td>0.000522</td>\n",
       "    </tr>\n",
       "  </tbody>\n",
       "</table>\n",
       "</div>"
      ],
      "text/plain": [
       "   Venue Category  Like Count\n",
       "0          Fondue    0.000000\n",
       "1            Food    0.000076\n",
       "2          Snacks    0.000522\n",
       "3  Middle Eastern    0.000522\n",
       "4          Bistro    0.000522"
      ]
     },
     "execution_count": 29,
     "metadata": {},
     "output_type": "execute_result"
    }
   ],
   "source": [
    "like_count_temp['Like Count']=like_count_temp['Like Count']/max(like_count_temp['Like Count'])\n",
    "like_count_temp=like_count_temp.reset_index()\n",
    "likes_by_cat=like_count_temp.sort_values(by=['Like Count'])\n",
    "likes_by_cat.head()"
   ]
  },
  {
   "cell_type": "code",
   "execution_count": 84,
   "metadata": {},
   "outputs": [],
   "source": [
    "likes_by_area=df2[['area','Like Count']].groupby('area').mean().sort_values(by=['Like Count'])\n",
    "likes_by_area['Like Count']=likes_by_area['Like Count']/max(likes_by_area['Like Count'])\n",
    "likes_by_area_dict=likes_by_area.to_dict()\n",
    "likes_by_area=likes_by_area.reset_index()"
   ]
  },
  {
   "cell_type": "code",
   "execution_count": 10,
   "metadata": {},
   "outputs": [
    {
     "data": {
      "text/html": [
       "<div>\n",
       "<style scoped>\n",
       "    .dataframe tbody tr th:only-of-type {\n",
       "        vertical-align: middle;\n",
       "    }\n",
       "\n",
       "    .dataframe tbody tr th {\n",
       "        vertical-align: top;\n",
       "    }\n",
       "\n",
       "    .dataframe thead th {\n",
       "        text-align: right;\n",
       "    }\n",
       "</style>\n",
       "<table border=\"1\" class=\"dataframe\">\n",
       "  <thead>\n",
       "    <tr style=\"text-align: right;\">\n",
       "      <th></th>\n",
       "      <th>area</th>\n",
       "      <th>Like Count</th>\n",
       "    </tr>\n",
       "  </thead>\n",
       "  <tbody>\n",
       "    <tr>\n",
       "      <th>0</th>\n",
       "      <td>57</td>\n",
       "      <td>0.000085</td>\n",
       "    </tr>\n",
       "    <tr>\n",
       "      <th>1</th>\n",
       "      <td>40</td>\n",
       "      <td>0.001820</td>\n",
       "    </tr>\n",
       "    <tr>\n",
       "      <th>2</th>\n",
       "      <td>17</td>\n",
       "      <td>0.001862</td>\n",
       "    </tr>\n",
       "    <tr>\n",
       "      <th>3</th>\n",
       "      <td>58</td>\n",
       "      <td>0.001940</td>\n",
       "    </tr>\n",
       "    <tr>\n",
       "      <th>4</th>\n",
       "      <td>11</td>\n",
       "      <td>0.005088</td>\n",
       "    </tr>\n",
       "  </tbody>\n",
       "</table>\n",
       "</div>"
      ],
      "text/plain": [
       "   area  Like Count\n",
       "0    57    0.000085\n",
       "1    40    0.001820\n",
       "2    17    0.001862\n",
       "3    58    0.001940\n",
       "4    11    0.005088"
      ]
     },
     "execution_count": 10,
     "metadata": {},
     "output_type": "execute_result"
    }
   ],
   "source": [
    "likes_by_area.head()"
   ]
  },
  {
   "cell_type": "code",
   "execution_count": 85,
   "metadata": {},
   "outputs": [],
   "source": [
    "str1='{\"type\": \"FeatureCollection\",\"crs\": {\"type\": \"name\",\"properties\": {\"name\": \"sf_polygons\"}}, \"features\": ['                                                                 \n",
    "geo_string=[]\n",
    "j=0\n",
    "for r in coords:\n",
    "    if j in likes_by_area['area'].unique():\n",
    "        geo_string.append( '{ \"type\": \"Feature\", \"properties\": { \"area\": '+str(j)+' }, \"geometry\": { \"type\": \"Polygon\", '+\n",
    "                       '\"coordinates\": [' + str([[r.x+dx,r.y+dy],[r.x+dx,r.y-dy],[r.x-dx,r.y-dy],[r.x-dx,r.y+dy],[r.x+dx,r.y+dy]])\n",
    "                       + '] } }')\n",
    "    j=j+1\n",
    "geo2=str1+','.join(geo_string)+']}'"
   ]
  },
  {
   "cell_type": "code",
   "execution_count": 18,
   "metadata": {},
   "outputs": [
    {
     "data": {
      "text/html": [
       "<div style=\"width:100%;\"><div style=\"position:relative;width:100%;height:0;padding-bottom:60%;\"><iframe src=\"data:text/html;charset=utf-8;base64,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\" style=\"position:absolute;width:100%;height:100%;left:0;top:0;border:none !important;\" allowfullscreen webkitallowfullscreen mozallowfullscreen></iframe></div></div>"
      ],
      "text/plain": [
       "<folium.folium.Map at 0x7ff5605950f0>"
      ]
     },
     "execution_count": 18,
     "metadata": {},
     "output_type": "execute_result"
    }
   ],
   "source": [
    "sf_map = folium.Map(location=[latitude, longitude], zoom_start=12)\n",
    "sf_map.choropleth(\n",
    "    geo_data=geo2,    \n",
    "    fill_color='YlOrRd',\n",
    "    name='choropleth',\n",
    "    data=likes_by_area,\n",
    "    columns=['area','Like Count'],\n",
    "    key_on='feature.properties.area',\n",
    "    fill_opacity=0.7,\n",
    "    line_opacity=0.2,\n",
    "    legend_name='Average like count of restaurants/a.u.'\n",
    ")\n",
    "\n",
    "sf_map"
   ]
  },
  {
   "cell_type": "code",
   "execution_count": null,
   "metadata": {},
   "outputs": [],
   "source": [
    "from folium.features import DivIcon\n",
    "for r in df2['area']:\n",
    "    p= coords[r]\n",
    "    folium.map.Marker(\n",
    "    [p.y, p.x],\n",
    "    icon=DivIcon(\n",
    "        icon_size=(150,36),\n",
    "        icon_anchor=(0,0),\n",
    "        html='<div style=\"font-size: 24pt\">'+str(r)+'</div>',\n",
    "        )\n",
    "    ).add_to(sf_map)"
   ]
  },
  {
   "cell_type": "code",
   "execution_count": null,
   "metadata": {},
   "outputs": [],
   "source": [
    "sf_map"
   ]
  },
  {
   "cell_type": "markdown",
   "metadata": {},
   "source": [
    "## 7. Compare least liked and most liked catergory per area"
   ]
  },
  {
   "cell_type": "code",
   "execution_count": 87,
   "metadata": {},
   "outputs": [],
   "source": [
    "temp=df2[['area','Venue Category','Like Count']].sort_values(['area','Venue Category'])\n",
    "temp=temp.groupby(['area','Venue Category']).mean()\n",
    "temp=temp.reset_index()\n",
    "\n",
    "l_likes=[]\n",
    "m_likes=[]\n",
    "for area in np.unique(temp['area'].values):\n",
    "    m=temp[ temp['area']==area]\n",
    "    m_likes.append( ','.join(m[m['Like Count']==max(m['Like Count'])]['Venue Category'].values))\n",
    "    l_likes.append( ','.join(m[m['Like Count']==min(m['Like Count'])]['Venue Category'].values))   \n",
    "    \n",
    "minMax_df=pd.DataFrame({'area': np.unique(temp['area'].values), 'Least liked': l_likes, 'Most liked': m_likes,  })"
   ]
  },
  {
   "cell_type": "code",
   "execution_count": 88,
   "metadata": {},
   "outputs": [
    {
     "data": {
      "text/html": [
       "<div>\n",
       "<style scoped>\n",
       "    .dataframe tbody tr th:only-of-type {\n",
       "        vertical-align: middle;\n",
       "    }\n",
       "\n",
       "    .dataframe tbody tr th {\n",
       "        vertical-align: top;\n",
       "    }\n",
       "\n",
       "    .dataframe thead th {\n",
       "        text-align: right;\n",
       "    }\n",
       "</style>\n",
       "<table border=\"1\" class=\"dataframe\">\n",
       "  <thead>\n",
       "    <tr style=\"text-align: right;\">\n",
       "      <th></th>\n",
       "      <th></th>\n",
       "      <th>Least liked</th>\n",
       "    </tr>\n",
       "    <tr>\n",
       "      <th>Most liked</th>\n",
       "      <th>area</th>\n",
       "      <th></th>\n",
       "    </tr>\n",
       "  </thead>\n",
       "  <tbody>\n",
       "    <tr>\n",
       "      <th>African</th>\n",
       "      <th>50</th>\n",
       "      <td>Bakery,Cajun / Creole,Desserts,Food,Restaurant...</td>\n",
       "    </tr>\n",
       "    <tr>\n",
       "      <th>American</th>\n",
       "      <th>3</th>\n",
       "      <td>BBQ,Bakery,Food,Food Truck,Japanese,Sandwiches</td>\n",
       "    </tr>\n",
       "    <tr>\n",
       "      <th>Asian</th>\n",
       "      <th>57</th>\n",
       "      <td>Bakery,Deli / Bodega,Food,Gourmet,Restaurant,S...</td>\n",
       "    </tr>\n",
       "    <tr>\n",
       "      <th rowspan=\"3\" valign=\"top\">Bakery</th>\n",
       "      <th>36</th>\n",
       "      <td>Salad</td>\n",
       "    </tr>\n",
       "    <tr>\n",
       "      <th>2</th>\n",
       "      <td>American,BBQ,Diner,Food,Food Court,Food Truck,...</td>\n",
       "    </tr>\n",
       "    <tr>\n",
       "      <th>30</th>\n",
       "      <td>BBQ,Restaurant,Snacks</td>\n",
       "    </tr>\n",
       "    <tr>\n",
       "      <th rowspan=\"2\" valign=\"top\">Breakfast</th>\n",
       "      <th>48</th>\n",
       "      <td>Bakery,Chinese,Food,Restaurant,Seafood,Tacos,V...</td>\n",
       "    </tr>\n",
       "    <tr>\n",
       "      <th>52</th>\n",
       "      <td>Burgers</td>\n",
       "    </tr>\n",
       "    <tr>\n",
       "      <th>Bubble Tea</th>\n",
       "      <th>10</th>\n",
       "      <td>Pizza</td>\n",
       "    </tr>\n",
       "    <tr>\n",
       "      <th>Burgers</th>\n",
       "      <th>47</th>\n",
       "      <td>Donuts</td>\n",
       "    </tr>\n",
       "  </tbody>\n",
       "</table>\n",
       "</div>"
      ],
      "text/plain": [
       "                                                       Least liked\n",
       "Most liked area                                                   \n",
       "African    50    Bakery,Cajun / Creole,Desserts,Food,Restaurant...\n",
       "American   3        BBQ,Bakery,Food,Food Truck,Japanese,Sandwiches\n",
       "Asian      57    Bakery,Deli / Bodega,Food,Gourmet,Restaurant,S...\n",
       "Bakery     36                                                Salad\n",
       "           2     American,BBQ,Diner,Food,Food Court,Food Truck,...\n",
       "           30                                BBQ,Restaurant,Snacks\n",
       "Breakfast  48    Bakery,Chinese,Food,Restaurant,Seafood,Tacos,V...\n",
       "           52                                              Burgers\n",
       "Bubble Tea 10                                                Pizza\n",
       "Burgers    47                                               Donuts"
      ]
     },
     "execution_count": 88,
     "metadata": {},
     "output_type": "execute_result"
    }
   ],
   "source": [
    "minMax_df.set_index(['Most liked','area']).sort_values(['Most liked']).head(10)"
   ]
  },
  {
   "cell_type": "markdown",
   "metadata": {},
   "source": [
    "## 8. Use  LogisticRegression to predict if the like count as a function of location and catergory"
   ]
  },
  {
   "cell_type": "code",
   "execution_count": 203,
   "metadata": {},
   "outputs": [],
   "source": [
    "from sklearn.model_selection import train_test_split\n",
    "from sklearn import metrics\n",
    "from sklearn import preprocessing\n",
    "\n",
    "from sklearn.linear_model import LogisticRegression\n",
    "from sklearn.metrics import confusion_matrix\n",
    "from sklearn.metrics import jaccard_similarity_score\n",
    "from sklearn.metrics import classification_report\n",
    "\n",
    "import itertools\n",
    "\n",
    "import matplotlib.pyplot as plt\n",
    "from matplotlib.ticker import NullFormatter\n",
    "import matplotlib.ticker as ticker\n",
    "%matplotlib inline"
   ]
  },
  {
   "cell_type": "code",
   "execution_count": 138,
   "metadata": {},
   "outputs": [
    {
     "name": "stderr",
     "output_type": "stream",
     "text": [
      "/home/jupyterlab/conda/lib/python3.6/site-packages/ipykernel_launcher.py:2: SettingWithCopyWarning: \n",
      "A value is trying to be set on a copy of a slice from a DataFrame.\n",
      "Try using .loc[row_indexer,col_indexer] = value instead\n",
      "\n",
      "See the caveats in the documentation: http://pandas.pydata.org/pandas-docs/stable/indexing.html#indexing-view-versus-copy\n",
      "  \n",
      "/home/jupyterlab/conda/lib/python3.6/site-packages/ipykernel_launcher.py:3: SettingWithCopyWarning: \n",
      "A value is trying to be set on a copy of a slice from a DataFrame.\n",
      "Try using .loc[row_indexer,col_indexer] = value instead\n",
      "\n",
      "See the caveats in the documentation: http://pandas.pydata.org/pandas-docs/stable/indexing.html#indexing-view-versus-copy\n",
      "  This is separate from the ipykernel package so we can avoid doing imports until\n"
     ]
    },
    {
     "data": {
      "text/html": [
       "<div>\n",
       "<style scoped>\n",
       "    .dataframe tbody tr th:only-of-type {\n",
       "        vertical-align: middle;\n",
       "    }\n",
       "\n",
       "    .dataframe tbody tr th {\n",
       "        vertical-align: top;\n",
       "    }\n",
       "\n",
       "    .dataframe thead th {\n",
       "        text-align: right;\n",
       "    }\n",
       "</style>\n",
       "<table border=\"1\" class=\"dataframe\">\n",
       "  <thead>\n",
       "    <tr style=\"text-align: right;\">\n",
       "      <th></th>\n",
       "      <th>Venue Latitude</th>\n",
       "      <th>Venue Longitude</th>\n",
       "      <th>area</th>\n",
       "      <th>Venue Category</th>\n",
       "      <th>Like Count</th>\n",
       "    </tr>\n",
       "  </thead>\n",
       "  <tbody>\n",
       "    <tr>\n",
       "      <th>0</th>\n",
       "      <td>37.733188</td>\n",
       "      <td>-122.503240</td>\n",
       "      <td>1</td>\n",
       "      <td>0</td>\n",
       "      <td>0.008097</td>\n",
       "    </tr>\n",
       "    <tr>\n",
       "      <th>1</th>\n",
       "      <td>37.735671</td>\n",
       "      <td>-122.503049</td>\n",
       "      <td>1</td>\n",
       "      <td>1</td>\n",
       "      <td>0.054881</td>\n",
       "    </tr>\n",
       "    <tr>\n",
       "      <th>2</th>\n",
       "      <td>37.741892</td>\n",
       "      <td>-122.504763</td>\n",
       "      <td>1</td>\n",
       "      <td>2</td>\n",
       "      <td>0.000450</td>\n",
       "    </tr>\n",
       "    <tr>\n",
       "      <th>3</th>\n",
       "      <td>37.741859</td>\n",
       "      <td>-122.504548</td>\n",
       "      <td>1</td>\n",
       "      <td>0</td>\n",
       "      <td>0.010796</td>\n",
       "    </tr>\n",
       "    <tr>\n",
       "      <th>4</th>\n",
       "      <td>37.738313</td>\n",
       "      <td>-122.500738</td>\n",
       "      <td>1</td>\n",
       "      <td>3</td>\n",
       "      <td>0.062078</td>\n",
       "    </tr>\n",
       "  </tbody>\n",
       "</table>\n",
       "</div>"
      ],
      "text/plain": [
       "   Venue Latitude  Venue Longitude  area  Venue Category  Like Count\n",
       "0       37.733188      -122.503240     1               0    0.008097\n",
       "1       37.735671      -122.503049     1               1    0.054881\n",
       "2       37.741892      -122.504763     1               2    0.000450\n",
       "3       37.741859      -122.504548     1               0    0.010796\n",
       "4       37.738313      -122.500738     1               3    0.062078"
      ]
     },
     "execution_count": 138,
     "metadata": {},
     "output_type": "execute_result"
    }
   ],
   "source": [
    "cluster_df=df2[['Venue Latitude','Venue Longitude','area','Venue Category','Like Count']]\n",
    "cluster_df['Venue Category']=cluster_df['Venue Category'].map(int_labels)\n",
    "cluster_df['Like Count']=cluster_df['Like Count']/max(cluster_df['Like Count'])\n",
    "cluster_df.head()"
   ]
  },
  {
   "cell_type": "code",
   "execution_count": 228,
   "metadata": {},
   "outputs": [
    {
     "name": "stderr",
     "output_type": "stream",
     "text": [
      "/home/jupyterlab/conda/lib/python3.6/site-packages/sklearn/preprocessing/data.py:625: DataConversionWarning: Data with input dtype int64, float64 were all converted to float64 by StandardScaler.\n",
      "  return self.partial_fit(X, y)\n",
      "/home/jupyterlab/conda/lib/python3.6/site-packages/ipykernel_launcher.py:2: DataConversionWarning: Data with input dtype int64, float64 were all converted to float64 by StandardScaler.\n",
      "  \n"
     ]
    }
   ],
   "source": [
    "X=cluster_df[['Venue Latitude','Venue Longitude','Venue Category']]\n",
    "X=preprocessing.StandardScaler().fit(X).transform(X)\n",
    "y= np.around(df2['Like Count'].values/max(df2['Like Count']) +0.4 )\n",
    "\n",
    "X_train, X_test, y_train, y_test = train_test_split( X, y, test_size=0.2)"
   ]
  },
  {
   "cell_type": "code",
   "execution_count": 229,
   "metadata": {},
   "outputs": [
    {
     "data": {
      "text/plain": [
       "{0.0: 916, 1.0: 226}"
      ]
     },
     "execution_count": 229,
     "metadata": {},
     "output_type": "execute_result"
    }
   ],
   "source": [
    "unique, counts = np.unique(y, return_counts=True)\n",
    "dict(zip(unique, counts))"
   ]
  },
  {
   "cell_type": "code",
   "execution_count": 230,
   "metadata": {},
   "outputs": [
    {
     "data": {
      "text/plain": [
       "LogisticRegression(C=0.1, class_weight=None, dual=False, fit_intercept=True,\n",
       "          intercept_scaling=1, max_iter=100, multi_class='warn',\n",
       "          n_jobs=None, penalty='l2', random_state=None, solver='lbfgs',\n",
       "          tol=0.0001, verbose=0, warm_start=False)"
      ]
     },
     "execution_count": 230,
     "metadata": {},
     "output_type": "execute_result"
    }
   ],
   "source": [
    "LR = LogisticRegression(C=0.1, solver='lbfgs').fit(X_train,y_train)\n",
    "LR"
   ]
  },
  {
   "cell_type": "code",
   "execution_count": 231,
   "metadata": {},
   "outputs": [
    {
     "data": {
      "text/plain": [
       "0.777292576419214"
      ]
     },
     "execution_count": 231,
     "metadata": {},
     "output_type": "execute_result"
    }
   ],
   "source": [
    "yhat = LR.predict(X_test)\n",
    "jaccard_similarity_score(y_test, yhat)"
   ]
  },
  {
   "cell_type": "code",
   "execution_count": 232,
   "metadata": {},
   "outputs": [
    {
     "name": "stdout",
     "output_type": "stream",
     "text": [
      "              precision    recall  f1-score   support\n",
      "\n",
      "         0.0       0.82      0.93      0.87       183\n",
      "         1.0       0.38      0.17      0.24        46\n",
      "\n",
      "   micro avg       0.78      0.78      0.78       229\n",
      "   macro avg       0.60      0.55      0.55       229\n",
      "weighted avg       0.73      0.78      0.74       229\n",
      "\n"
     ]
    }
   ],
   "source": [
    "print (classification_report(y_test, yhat))\n"
   ]
  },
  {
   "cell_type": "code",
   "execution_count": null,
   "metadata": {},
   "outputs": [],
   "source": []
  }
 ],
 "metadata": {
  "kernelspec": {
   "display_name": "Python 3",
   "language": "python",
   "name": "python3"
  },
  "language_info": {
   "codemirror_mode": {
    "name": "ipython",
    "version": 3
   },
   "file_extension": ".py",
   "mimetype": "text/x-python",
   "name": "python",
   "nbconvert_exporter": "python",
   "pygments_lexer": "ipython3",
   "version": "3.6.6"
  }
 },
 "nbformat": 4,
 "nbformat_minor": 2
}
